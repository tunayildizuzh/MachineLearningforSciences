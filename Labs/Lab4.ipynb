{
 "cells": [
  {
   "cell_type": "markdown",
   "metadata": {
    "id": "4D766ijCId6u"
   },
   "source": [
    "# Clustering\n",
    "You will be asked to implement several functions.Team work is not allowed. \n",
    "\n",
    "Everybody implements his/her own code. Discussing issues with others is fine, sharing code with others is not.\n",
    "\n",
    "If you use any code fragments found on the Internet, make sure you reference them properly.\n",
    "\n",
    "In this exercise we will use unsupervised methods for clustering, in this case instead of having $X$ and $Y$ pairs at train time, we only have the input data $X$ at train time.\n",
    "\n",
    "Let's work with 2 popular methods: K-means and Mean-shift.\n",
    "\n",
    "## Dataset\n",
    "To get familiar with the adavantages and disanvantages of the methods, we will use 3 different datasets:\n",
    "\n",
    "1. toy data (2-dimensional blob data that is easy to visualize) for warm up.\n",
    "\n",
    "2. 2d spiral data\n",
    "\n",
    "3. country data including some socio-economic and health factors that can jointly determine the overall development of the country. We will use K-means and mean-shift methods on this dataset to make decision to choose the countries that are in the direst need of aid.\n",
    "\n",
    "\n",
    "## Objectives\n",
    "1. Learn to cluster data by kmeans and mean-shift approaches provided by scikit-learn library.\n",
    "2. Understand how to evaluate them by intuition and metric values\n",
    "\n",
    "## Contents:\n",
    "1) scikit-learn K-means (3 points)\n",
    "\n",
    "    1a) Toy dataset: blobs\n",
    "\n",
    "    1b) Toy dataset: spirals\n",
    "    \n",
    "\n",
    "2) scikit-learn Mean-shift (3 points)\n",
    "\n",
    "    2a) Toy dataset: blobs\n",
    "\n",
    "    2b) Toy dataset: spirals\n",
    "    \n",
    "\n",
    "3) Country dataset (6 points)\n",
    "\n",
    "\n",
    "4) Your own Mean-shift implementation (will be graded in lab 6 but this task is more difficult therefore you can already have a look at it this week)\n"
   ]
  },
  {
   "cell_type": "markdown",
   "metadata": {
    "id": "sAaqFP02Id6w"
   },
   "source": [
    "## 1) sklearn K-means (3 points)"
   ]
  },
  {
   "cell_type": "code",
   "execution_count": 1,
   "metadata": {
    "id": "IAJFbXkJId6x"
   },
   "outputs": [],
   "source": [
    "import numpy as np\n",
    "import pandas as pd\n",
    "import matplotlib.pyplot as plt\n",
    "from mpl_toolkits.mplot3d import Axes3D\n",
    "import seaborn as sns\n",
    "from sklearn.preprocessing import StandardScaler\n",
    "from sklearn.cluster import KMeans\n",
    "%matplotlib inline "
   ]
  },
  {
   "cell_type": "markdown",
   "metadata": {
    "id": "VAKh9FWMId6y"
   },
   "source": [
    "### 1a) Toy dataset: blobs (1 point)\n",
    "- Load toy dataset (blobs)."
   ]
  },
  {
   "cell_type": "code",
   "execution_count": 24,
   "metadata": {
    "id": "cHv1eNCRId6y"
   },
   "outputs": [],
   "source": [
    "data_blobs = np.genfromtxt('/Users/tunayildiz/MachineLearningforSciences/Datasets/toy_data.csv', delimiter=',')"
   ]
  },
  {
   "cell_type": "code",
   "execution_count": 25,
   "metadata": {},
   "outputs": [
    {
     "name": "stdout",
     "output_type": "stream",
     "text": [
      "(1000, 2)\n",
      "[[ 11.40984207   5.58112073]\n",
      " [ -4.34272757  11.08027991]\n",
      " [ 12.19338509   4.41690355]\n",
      " [-12.35698204   4.60251408]\n",
      " [ 14.04581614   3.82670146]]\n"
     ]
    }
   ],
   "source": [
    "#Explore\n",
    "\n",
    "print(data_blobs.shape)\n",
    "print(data_blobs[0:5])"
   ]
  },
  {
   "cell_type": "markdown",
   "metadata": {
    "id": "ELfWv6WyId6y"
   },
   "source": [
    "- Use sklearn kmeans function (parameters by defalt) to cluster points."
   ]
  },
  {
   "cell_type": "code",
   "execution_count": 7,
   "metadata": {
    "id": "BJxNnP9KId6y"
   },
   "outputs": [],
   "source": [
    "# from sklearn.preprocessing import StandardScaler\n",
    "\n",
    "# scaler = StandardScaler()\n",
    "# data_blobs = scaler.fit_transform(data_blobs)"
   ]
  },
  {
   "cell_type": "code",
   "execution_count": 26,
   "metadata": {},
   "outputs": [],
   "source": [
    "from sklearn.cluster import KMeans\n",
    "\n",
    "kmeans = KMeans(n_clusters= 5, init='k-means++')\n",
    "\n",
    "y_kmeans = kmeans.fit_predict(data_blobs)"
   ]
  },
  {
   "cell_type": "code",
   "execution_count": 27,
   "metadata": {},
   "outputs": [
    {
     "data": {
      "text/plain": [
       "array([[-4.34272757, 11.08027991],\n",
       "       [-2.62038231, 12.29246007],\n",
       "       [-3.04894303, 13.11987996],\n",
       "       [-2.94480979, 10.91000015],\n",
       "       [-3.67908614, 10.78690064],\n",
       "       [-3.67058924, 11.35081804],\n",
       "       [-4.92301238, 12.74146633],\n",
       "       [-2.41461965, 12.05141198],\n",
       "       [-3.7780393 , 11.60513324],\n",
       "       [-3.19223082, 12.86662567],\n",
       "       [-2.84318431, 10.66865532],\n",
       "       [-3.83853275, 10.71656925],\n",
       "       [-3.42251969, 11.78402323],\n",
       "       [-4.02319792, 12.13800321],\n",
       "       [-2.41708075, 12.07896605],\n",
       "       [-4.49708039, 10.82109431],\n",
       "       [-2.28645054, 11.35606414],\n",
       "       [-2.5465282 , 11.51074796],\n",
       "       [-2.11267363, 11.95476437],\n",
       "       [-3.30121246, 11.91739028],\n",
       "       [-2.14173048, 11.98491167],\n",
       "       [-3.64790295, 11.01914119],\n",
       "       [-3.74637012, 12.32722596],\n",
       "       [-4.01273675, 12.81489677],\n",
       "       [-3.13317851, 11.56638963],\n",
       "       [-4.00272538, 11.4208353 ],\n",
       "       [-3.64645405, 12.27003216],\n",
       "       [-3.84105733, 10.93820455],\n",
       "       [-3.80109661, 13.50373545],\n",
       "       [-5.71499597, 10.97759774],\n",
       "       [-3.82343268, 11.78753485],\n",
       "       [-5.29609926, 10.98177475],\n",
       "       [-3.26563699, 11.31603389],\n",
       "       [-2.84803317, 11.60922676],\n",
       "       [-4.28530475, 12.78750717],\n",
       "       [-2.89619548, 11.35507485],\n",
       "       [-3.16000485, 11.73303521],\n",
       "       [-3.57550969, 11.6042358 ],\n",
       "       [-1.8319735 , 12.96520417],\n",
       "       [-2.81621809,  9.75462136],\n",
       "       [-3.61902492, 12.32995633],\n",
       "       [-2.88663145, 11.84297976],\n",
       "       [-2.93805687, 10.30726912],\n",
       "       [-1.90357125, 11.79407223],\n",
       "       [-4.97770522, 11.69183121],\n",
       "       [-2.85886243, 11.73796263],\n",
       "       [-3.38412186, 12.38172229],\n",
       "       [-4.49203505, 11.78016114],\n",
       "       [-5.24633316, 12.45585272],\n",
       "       [-4.47882335, 13.48424207],\n",
       "       [-3.6836756 , 12.46066332],\n",
       "       [-3.17939499, 11.64431806],\n",
       "       [-2.91404134, 11.05741245],\n",
       "       [-3.90524476, 13.60700174],\n",
       "       [-3.81912163, 11.38343443],\n",
       "       [-2.91272749, 12.81418966],\n",
       "       [-2.75664827, 12.62053204],\n",
       "       [-2.3857099 , 12.44115982],\n",
       "       [-5.48599494, 12.15508053],\n",
       "       [-4.79535009, 11.19652501],\n",
       "       [-3.30176733, 12.53452915],\n",
       "       [-2.53664764, 11.65023858],\n",
       "       [-4.48364812, 11.78489329],\n",
       "       [-3.87796072, 11.73276639],\n",
       "       [-4.04379533, 11.3125371 ],\n",
       "       [-3.65520416, 10.57412756],\n",
       "       [-4.04069348, 11.346661  ],\n",
       "       [-2.83038797, 13.0028934 ],\n",
       "       [-5.13810678, 13.76943464],\n",
       "       [-1.5666351 , 11.72520667],\n",
       "       [-4.95161291, 12.39832611],\n",
       "       [-2.57912466, 12.19845061],\n",
       "       [-2.43047005, 10.11093167],\n",
       "       [-3.75446781, 11.95336874],\n",
       "       [-3.4079643 , 10.85333623],\n",
       "       [-4.03675141, 10.17357271],\n",
       "       [-2.80281567, 11.06400023],\n",
       "       [-3.26740791, 13.44649766],\n",
       "       [-3.35694086, 11.85640326],\n",
       "       [-2.72814726, 10.69080096],\n",
       "       [-3.67280479, 12.48135382],\n",
       "       [-2.38640689, 12.25687966],\n",
       "       [-3.61122718, 11.45571832],\n",
       "       [-2.8943151 , 12.32452237],\n",
       "       [-3.51120077, 11.48084652],\n",
       "       [-3.07287294, 10.49060296],\n",
       "       [-3.40675692, 10.50729911],\n",
       "       [-2.99908297, 11.6285845 ],\n",
       "       [-4.00750361, 10.80682632],\n",
       "       [-2.38959182, 11.24101023],\n",
       "       [-3.92556642, 11.81820735],\n",
       "       [-3.22018427, 11.90998699],\n",
       "       [-4.72370458, 10.19967505],\n",
       "       [-2.20726991, 12.0783852 ],\n",
       "       [-2.74178937, 11.67209124],\n",
       "       [-3.88776239, 12.40939689],\n",
       "       [-4.47424423, 12.62052101],\n",
       "       [-3.96562449, 10.44840816],\n",
       "       [-3.20588966, 12.40000605],\n",
       "       [-3.15884824, 11.92277646],\n",
       "       [-2.91277203, 13.06626391],\n",
       "       [-4.13935133, 11.95358501],\n",
       "       [-3.54626216, 11.02641686],\n",
       "       [-3.75553303,  9.71883467],\n",
       "       [-4.2038053 , 10.74621341],\n",
       "       [-2.75114456, 10.55725047],\n",
       "       [-3.22774054, 11.91987011],\n",
       "       [-3.92754638, 10.41847072],\n",
       "       [-3.98676332, 10.36625297],\n",
       "       [-3.6160308 , 11.90706263],\n",
       "       [-4.28312098, 13.67121704],\n",
       "       [-4.48188137, 10.8975248 ],\n",
       "       [-3.65813061, 10.16884121],\n",
       "       [-3.9821878 ,  9.44499724],\n",
       "       [-3.87945411, 10.87951054],\n",
       "       [-3.1405618 , 12.30633694],\n",
       "       [-1.83371708, 11.59208228],\n",
       "       [-4.40365519, 11.78691165],\n",
       "       [-1.71657058, 12.44327135],\n",
       "       [-3.45333958, 13.22940965],\n",
       "       [-4.26433439,  9.83754243],\n",
       "       [-2.93842968, 11.33429248],\n",
       "       [-3.19573737, 11.03468494],\n",
       "       [-4.12943086, 11.08532911],\n",
       "       [-3.46131892,  9.19146489],\n",
       "       [-5.02149984, 10.45921969],\n",
       "       [-6.14900856, 12.96634071],\n",
       "       [-3.28374918, 12.45220795],\n",
       "       [-4.67114987, 11.85630865],\n",
       "       [-2.95309994, 12.47860051],\n",
       "       [-2.98498474, 10.39265195],\n",
       "       [-2.56968322, 11.60923381],\n",
       "       [-2.94184351, 11.39259036],\n",
       "       [-2.81646481, 12.51454383],\n",
       "       [-3.86573069, 13.24659888],\n",
       "       [-1.34714818, 10.89123837],\n",
       "       [-3.32010538, 12.85061311],\n",
       "       [-3.18831366, 11.82157126],\n",
       "       [-2.26842563, 13.04433935],\n",
       "       [-4.63128148, 12.75055996],\n",
       "       [-0.55636842, 10.83246309],\n",
       "       [-4.80400293, 13.68024501],\n",
       "       [-2.16093165, 10.32602153],\n",
       "       [-2.25240832, 11.9800597 ],\n",
       "       [-4.25553773, 13.34707379],\n",
       "       [-5.55941618, 10.26022625],\n",
       "       [-4.50175585, 11.43097283],\n",
       "       [-3.42786375, 11.37802133],\n",
       "       [-3.12314004, 11.92511408],\n",
       "       [-3.27209688, 12.34843481],\n",
       "       [-4.05869285, 11.48054853],\n",
       "       [-3.64621867, 12.20374011],\n",
       "       [-1.79796869, 13.9402314 ],\n",
       "       [-3.15838074, 13.31966326],\n",
       "       [-3.79880877, 13.49575672],\n",
       "       [-3.56910101, 12.31230338],\n",
       "       [-2.63088818, 11.07525289],\n",
       "       [-3.90542466, 12.13625174],\n",
       "       [-2.75115854, 12.44426795],\n",
       "       [-4.39098813, 12.79903346],\n",
       "       [-4.29882777, 12.52306332],\n",
       "       [-4.38859133, 11.16395546],\n",
       "       [-5.40418042, 10.47374709],\n",
       "       [-2.15885133, 10.40421448],\n",
       "       [-2.34860574, 11.21739209]])"
      ]
     },
     "execution_count": 27,
     "metadata": {},
     "output_type": "execute_result"
    }
   ],
   "source": [
    "data_blobs[y_kmeans ==0]"
   ]
  },
  {
   "attachments": {},
   "cell_type": "markdown",
   "metadata": {
    "id": "rM2ZANR7Id6y"
   },
   "source": [
    "- Plot clustering results by ```plt.scatter()``` color the points according to the clusters from k-means"
   ]
  },
  {
   "cell_type": "code",
   "execution_count": 28,
   "metadata": {
    "id": "qzV117twId6z",
    "outputId": "5d5ca06e-92c4-4293-8431-99a7ba18df2d"
   },
   "outputs": [
    {
     "data": {
      "image/png": "[encoded data removed]",
      "text/plain": [
       "<Figure size 640x480 with 1 Axes>"
      ]
     },
     "metadata": {},
     "output_type": "display_data"
    }
   ],
   "source": [
    "plt.scatter(data_blobs[y_kmeans == 0, 0], data_blobs[y_kmeans == 0, 1], s = 100, c = 'red', label = 'Cluster 1')\n",
    "plt.scatter(data_blobs[y_kmeans == 1, 0], data_blobs[y_kmeans == 1, 1], s = 100, c = 'blue', label = 'Cluster 2')\n",
    "plt.scatter(data_blobs[y_kmeans == 2, 0], data_blobs[y_kmeans == 2, 1], s = 100, c = 'green', label = 'Cluster 3')\n",
    "plt.scatter(data_blobs[y_kmeans == 3, 0], data_blobs[y_kmeans == 3, 1], s = 100, c = 'cyan', label = 'Cluster 4')\n",
    "plt.scatter(data_blobs[y_kmeans == 4, 0], data_blobs[y_kmeans == 4, 1], s = 100, c = 'magenta', label = 'Cluster 5')\n",
    "plt.scatter(kmeans.cluster_centers_[:, 0], kmeans.cluster_centers_[:, 1], s = 300, c = 'yellow', label = 'Centroids')\n",
    "plt.title('Clusters')\n",
    "plt.legend()\n",
    "plt.show()"
   ]
  },
  {
   "cell_type": "markdown",
   "metadata": {
    "id": "99bMrUvYId6z"
   },
   "source": [
    "- Choosing the number of n_clusters without extra information is not trivial. For these blobs data, we don't have any labels. Which configurations do you think are be the best for this dataset? How many n_custers would you choose?\n",
    "- Plot your results."
   ]
  },
  {
   "cell_type": "code",
   "execution_count": 22,
   "metadata": {
    "id": "xp-ylzYdId60",
    "outputId": "2de46550-1980-461e-a961-7ff280f5125c"
   },
   "outputs": [
    {
     "data": {
      "image/png": "[encoded data removed]",
      "text/plain": [
       "<Figure size 640x480 with 1 Axes>"
      ]
     },
     "metadata": {},
     "output_type": "display_data"
    }
   ],
   "source": [
    "''' \n",
    "Just by looking at the graph above, it is clear that n_cluster needs to be 5 or 6. However, to determine in a more accurate fashion, elbow method could be used.\n",
    "'''\n",
    "wcss = []\n",
    "for i in range(1, 11):\n",
    "    kmeans = KMeans(n_clusters = i, init = 'k-means++', random_state = 42)\n",
    "    kmeans.fit(data_blobs)\n",
    "    wcss.append(kmeans.inertia_)\n",
    "plt.plot(range(1, 11), wcss)\n",
    "plt.title('The Elbow Method')\n",
    "plt.xlabel('Number of clusters')\n",
    "plt.ylabel('WCSS')\n",
    "plt.show()\n",
    "\n",
    "\n"
   ]
  },
  {
   "attachments": {},
   "cell_type": "markdown",
   "metadata": {},
   "source": [
    "As the graph above suggests, 5 or 6 clusters is a good fit for n_clusters."
   ]
  },
  {
   "cell_type": "markdown",
   "metadata": {
    "id": "htLgEnOtId60"
   },
   "source": [
    "### 1b) Spiral dataset (1 point)\n",
    "- Try to use the KMeans to cluster the Spiral dataset."
   ]
  },
  {
   "cell_type": "code",
   "execution_count": 29,
   "metadata": {
    "id": "0gHk-qlDId60"
   },
   "outputs": [],
   "source": [
    "# load data\n",
    "spiral = np.load(\"/Users/tunayildiz/MachineLearningforSciences/Datasets/spiral.npz\")['x']\n"
   ]
  },
  {
   "cell_type": "code",
   "execution_count": 31,
   "metadata": {},
   "outputs": [
    {
     "name": "stdout",
     "output_type": "stream",
     "text": [
      "(312, 2)\n",
      "[[1.72  1.195]\n",
      " [1.16  1.525]\n",
      " [0.865 1.93 ]\n",
      " [2.32  3.045]\n",
      " [3.125 2.13 ]]\n"
     ]
    }
   ],
   "source": [
    "print(spiral.shape)\n",
    "print(spiral[0:5])"
   ]
  },
  {
   "cell_type": "markdown",
   "metadata": {
    "id": "BIO6A_ChId60"
   },
   "source": [
    "- Use sklearn kmeans to cluster points.\n",
    "- Plot your results"
   ]
  },
  {
   "cell_type": "code",
   "execution_count": 35,
   "metadata": {
    "id": "S1_TEE0oId60",
    "outputId": "2df16ee2-de20-42af-ab72-0dc7d5a1a87a"
   },
   "outputs": [],
   "source": [
    "from sklearn.cluster import KMeans\n",
    "\n",
    "kmeans = KMeans(n_clusters= 5, init='k-means++')\n",
    "\n",
    "y_kmeans = kmeans.fit_predict(spiral)"
   ]
  },
  {
   "cell_type": "code",
   "execution_count": 36,
   "metadata": {},
   "outputs": [
    {
     "data": {
      "image/png": "[encoded data removed]",
      "text/plain": [
       "<Figure size 640x480 with 1 Axes>"
      ]
     },
     "metadata": {},
     "output_type": "display_data"
    }
   ],
   "source": [
    "plt.scatter(spiral[y_kmeans == 0, 0], spiral[y_kmeans == 0, 1], s = 100, c = 'red', label = 'Cluster 1')\n",
    "plt.scatter(spiral[y_kmeans == 1, 0], spiral[y_kmeans == 1, 1], s = 100, c = 'blue', label = 'Cluster 2')\n",
    "plt.scatter(spiral[y_kmeans == 2, 0], spiral[y_kmeans == 2, 1], s = 100, c = 'green', label = 'Cluster 3')\n",
    "plt.scatter(spiral[y_kmeans == 3, 0], spiral[y_kmeans == 3, 1], s = 100, c = 'cyan', label = 'Cluster 4')\n",
    "plt.scatter(spiral[y_kmeans == 4, 0], spiral[y_kmeans == 4, 1], s = 100, c = 'magenta', label = 'Cluster 5')\n",
    "plt.scatter(kmeans.cluster_centers_[:, 0], kmeans.cluster_centers_[:, 1], s = 300, c = 'yellow', label = 'Centroids')\n",
    "plt.title('Clusters')\n",
    "plt.legend()\n",
    "plt.show()"
   ]
  },
  {
   "cell_type": "markdown",
   "metadata": {
    "id": "2yS0hWsoId60"
   },
   "source": [
    "### Question (1 point)\n",
    "- Does it work? Please explain your answer, which assumptions required for kmeans? \n",
    "- What limitations do you think K-means would have?\n",
    "- Can you find a k-means solution for this dataset? Write down your ideas here"
   ]
  },
  {
   "attachments": {},
   "cell_type": "markdown",
   "metadata": {
    "id": "9qEopKSVId61"
   },
   "source": []
  },
  {
   "attachments": {},
   "cell_type": "markdown",
   "metadata": {},
   "source": [
    "### Optional: Try your ideas to find a solution for this dataset\n",
    "Keep your unsuccsessful ideas as well and try to keep your code as clean as possible"
   ]
  },
  {
   "cell_type": "code",
   "execution_count": null,
   "metadata": {},
   "outputs": [],
   "source": []
  },
  {
   "cell_type": "markdown",
   "metadata": {
    "id": "Ojf_aWXjId61"
   },
   "source": [
    "## 2) sklearn mean-shift (3 points)"
   ]
  },
  {
   "cell_type": "code",
   "execution_count": null,
   "metadata": {
    "id": "L75Z_-cpId61"
   },
   "outputs": [],
   "source": [
    "from sklearn.cluster import MeanShift"
   ]
  },
  {
   "cell_type": "markdown",
   "metadata": {
    "id": "-RWbVKTpId61"
   },
   "source": [
    "### 2a) Toy dataset: blobs (1 point)\n",
    "\n",
    "- Use sklearn meanshift function to cluster points."
   ]
  },
  {
   "cell_type": "code",
   "execution_count": null,
   "metadata": {
    "id": "dPILQv1KId61"
   },
   "outputs": [],
   "source": []
  },
  {
   "cell_type": "markdown",
   "metadata": {
    "id": "4AG9vOkFId62"
   },
   "source": [
    "- Plot clustering results "
   ]
  },
  {
   "cell_type": "code",
   "execution_count": null,
   "metadata": {
    "id": "9d5PsGrzId62",
    "outputId": "421455fd-d5ab-4b38-d716-589aaa99fa69"
   },
   "outputs": [],
   "source": []
  },
  {
   "cell_type": "markdown",
   "metadata": {
    "id": "i05BvIQcId62"
   },
   "source": [
    "- Try different hyper-parameters (i.e. bandwidth, which is an important parameter for mean-shift) and plot the results."
   ]
  },
  {
   "cell_type": "code",
   "execution_count": null,
   "metadata": {
    "id": "4PA6N5srId62",
    "outputId": "a34448d4-8a26-4c4e-bb03-81c8e176b0e9"
   },
   "outputs": [],
   "source": []
  },
  {
   "cell_type": "markdown",
   "metadata": {
    "id": "6qh_Fx8eId62"
   },
   "source": [
    "### 2b) Toy dataset: spiral (1 point)\n",
    "\n",
    "- Use the Mean-shift to cluster the Spiral dataset.\n",
    "- Plot the results."
   ]
  },
  {
   "cell_type": "code",
   "execution_count": null,
   "metadata": {
    "id": "_L40gYSoId62",
    "outputId": "939ded82-d54b-4476-de8a-6aa3545d4372"
   },
   "outputs": [],
   "source": []
  },
  {
   "cell_type": "markdown",
   "metadata": {
    "id": "eSKUoHhlId63"
   },
   "source": [
    "### Question (1 point)\n",
    "- Does it work?\n",
    "- What kind of data cluster is this approach better at discovering?\n",
    "- Do you have a solution for this dataset? Write down what you would try"
   ]
  },
  {
   "attachments": {},
   "cell_type": "markdown",
   "metadata": {
    "id": "yETKuQfpId63"
   },
   "source": []
  },
  {
   "attachments": {},
   "cell_type": "markdown",
   "metadata": {},
   "source": [
    "### Optional: Try your ideas to find a solution for this dataset\n",
    "Keep your unsuccsessful ideas as well and try to keep your code as clean as possible"
   ]
  },
  {
   "cell_type": "code",
   "execution_count": null,
   "metadata": {},
   "outputs": [],
   "source": []
  },
  {
   "cell_type": "markdown",
   "metadata": {},
   "source": [
    "## Country development dataset (6 points)\n",
    "\n",
    "country data including some socio-economic and health factors that can jointly determine the overall development of the country. We will use K-means and mean-shift methods on this dataset to make decision to choose the countries that are in the direst need of aid.\n",
    "\n",
    "### Data Dictionary\n",
    "- country = Name of the country\n",
    "- child_mort = Death of children under 5 years of age per 1000 live births\n",
    "- exports = Exports of goods and services. Given as %age of the Total GDP\n",
    "- health = Total health spending as %age of Total GDP\n",
    "- imports = Imports of goods and services. Given as %age of the Total GDP\n",
    "- income = Net income per person\n",
    "- inflation = The measurement of the annual growth rate of the Total GDP\n",
    "- life_expec = The average number of years a new born child would live if the current mortality patterns are to remain the same\n",
    "- total_fer = The number of children that would be born to each woman if the current age-fertility rates remain the same\n",
    "- gdpp = The GDP per capita. Calculated as the Total GDP divided by the total population"
   ]
  },
  {
   "cell_type": "markdown",
   "metadata": {},
   "source": [
    "### Data Investigation (1 point)"
   ]
  },
  {
   "cell_type": "code",
   "execution_count": null,
   "metadata": {},
   "outputs": [],
   "source": [
    "# Load data\n",
    "df_country=pd.read_csv('data/country_data.csv')"
   ]
  },
  {
   "attachments": {},
   "cell_type": "markdown",
   "metadata": {},
   "source": [
    "- Print the first few lines of your data\n",
    "- Print the types of your colums\n",
    "- Print the shape of your dataframe\n",
    "- Print the basic statistics of the dataset"
   ]
  },
  {
   "cell_type": "code",
   "execution_count": null,
   "metadata": {},
   "outputs": [],
   "source": []
  },
  {
   "attachments": {},
   "cell_type": "markdown",
   "metadata": {},
   "source": [
    "- Visualize the distribution of each feature (plot 9 figures)"
   ]
  },
  {
   "cell_type": "code",
   "execution_count": null,
   "metadata": {},
   "outputs": [],
   "source": []
  },
  {
   "attachments": {},
   "cell_type": "markdown",
   "metadata": {},
   "source": [
    "### KMeans clustering health factors (1 point)\n",
    "- Cluster the samples based on health factors(child_mort, life_expec, total_fer)\n",
    "- Print the result (e.g. cluster: 0: [list of countries], cluster 1:[list of countries] ...)\n",
    "- Don't forget to normalise your data\n",
    "- Use the provided visualise functon to plot a 3d graph of your resulsts"
   ]
  },
  {
   "cell_type": "code",
   "execution_count": null,
   "metadata": {},
   "outputs": [],
   "source": []
  },
  {
   "cell_type": "code",
   "execution_count": null,
   "metadata": {},
   "outputs": [],
   "source": [
    "def visualise(data, idx):\n",
    "    fig = plt.figure()\n",
    "    ax = fig.add_subplot(111, projection='3d')\n",
    "    ax.scatter(data.values[:,0],data.values[:,1],data.values[:,2],marker='.', c=idx)\n",
    "    ax.set_xlabel(data.columns[0])\n",
    "    ax.set_ylabel(data.columns[1])\n",
    "    ax.set_zlabel(data.columns[2])  \n",
    "    plt.show()"
   ]
  },
  {
   "cell_type": "code",
   "execution_count": null,
   "metadata": {},
   "outputs": [],
   "source": [
    "visualise(X_health, y_kmeans_health)"
   ]
  },
  {
   "attachments": {},
   "cell_type": "markdown",
   "metadata": {},
   "source": [
    "### Cluster based on economic attributes (0.5 points)\n",
    "- Cluster the samples based on economic factors('income', 'gdpp', 'health')\n",
    "- Print the result (e.g. cluster: 0: [list of countries], cluster 1:[list of countries] ...)\n",
    "- Don't forget to normalise your data\n",
    "- Use the provided visualise functon to plot a 3d graph of your resulsts"
   ]
  },
  {
   "cell_type": "markdown",
   "metadata": {},
   "source": []
  },
  {
   "attachments": {},
   "cell_type": "markdown",
   "metadata": {},
   "source": [
    "### Cluster KMeans based on all attributes (0.5 points)\n",
    "- Cluster the samples based on all attributes\n",
    "- Print the result (e.g. cluster: 0: [list of countries], cluster 1:[list of countries] ...)\n",
    "- Don't forget to normalise your data"
   ]
  },
  {
   "cell_type": "markdown",
   "metadata": {},
   "source": [
    "### Question:  (1 point)\n",
    "Which feature set would you prefere and why? Do you think k-means clustering works well for this dataset?"
   ]
  },
  {
   "attachments": {},
   "cell_type": "markdown",
   "metadata": {},
   "source": [
    "### Mean shift clustering (1 point)\n",
    "- Cluster the samples based on all attributes using mean shift\n",
    "- Print the result (e.g. cluster: 0: [list of countries], cluster 1:[list of countries] ...)\n",
    "- Don't forget to normalise your data"
   ]
  },
  {
   "cell_type": "markdown",
   "metadata": {},
   "source": [
    "### Question (1 poins):\n",
    " Which method would you use to decide which countries need aid? Explain your choice and why this algorithm might worked better"
   ]
  },
  {
   "cell_type": "markdown",
   "metadata": {},
   "source": [
    "## 3) Your own Mean-shift implementation (0 points)\n",
    "### (Will be graded in lab 6 but is more time consuming therefore you can already start this week)\n",
    "\n",
    "Let's implement mean-shift algorithm ourselves.\n",
    "\n",
    "Complete the function ml_meanshift that performs the mean shift algorithm. The function takes 3 arguments:\n",
    "\n",
    "- input data: sample points in a N-by-2 matrix (number of rows is the number of samples, dimensionality of the input data will always be 2 for this exercise)\n",
    "- the kernel bandwidth $h$\n",
    "- the stopping threshold $\\vartheta$\n",
    "\n",
    "It should return two values:\n",
    "\n",
    "- cluster indexes: a column vector with N rows, specifying the cluster index for each sample\n",
    "- cluster modes: a M-by-2 matrix, returning the cluster modes (the points with the highest density) for each cluster (where M is the number of clusters)\n",
    "\n",
    "For this task, use the Epanechnikov kernel. Luckily all terms before the sum cancel out in the mean shift formula, leading to\n",
    "\n",
    "$$\n",
    "\\mathbf{q}_{t+1} = \\frac{\n",
    "\\sum_{i=1}^N \\mathbf{x}_i\n",
    "\\max\\left(0, 1 - \\frac{|\\mathbf{q}_t - \\mathbf{x}i|^2}{h^2} \\right)\n",
    "} {\n",
    "\\sum_{i=1}^N\n",
    "\\max\\left(0, 1 - \\frac{|\\mathbf{q}_t - \\mathbf{x}_i|^2}{h^2} \\right)\n",
    "}\n",
    "$$\n",
    "\n",
    "Start the mean shift procedure at each point and iterate until $|\\mathbf{q}_{t}-\\mathbf{q}_{t-1}| < \\vartheta$ where $\\vartheta$ is the threshold passed to the function. Additionally also count the iterations and add it as condtion so the loop does not run infinitely. You can use $200$ as the maximum value of iteration.\n",
    "\n",
    "When the iteration stopped, decide if a cluster mode already exists that is closer than $\\frac{h}{5}$. If yes, assign the point that you started at to this cluster. Otherwise, create a new cluster and assign the point to the new cluster."
   ]
  },
  {
   "cell_type": "code",
   "execution_count": null,
   "metadata": {},
   "outputs": [],
   "source": [
    "import math\n",
    "from numpy import linalg as la\n",
    "import numpy.matlib"
   ]
  },
  {
   "cell_type": "code",
   "execution_count": null,
   "metadata": {},
   "outputs": [],
   "source": [
    "# DO NOT MODIFY\n",
    "def visualise_kmeans(data,idx,centers,updated=None):\n",
    "    fig = plt.figure()\n",
    "    ax = fig.add_subplot(1,1,1)\n",
    "    ax.scatter(data[:,0],data[:,1],marker='.', c=idx)\n",
    "    ax.plot(centers[:,0],centers[:,1],'+',color='r',markersize=15,mew=2)\n",
    "    plt.show()\n",
    "def test_meanshift():\n",
    "    data = np.genfromtxt('data/toy_data.csv', delimiter=',')\n",
    "    idx, centers = ml_meanshift(data,4,0.001)\n",
    "    \n",
    "    centers_2 = np.array(centers)\n",
    "    \n",
    "    visualise_kmeans(data=data,idx=idx,centers=centers_2)"
   ]
  },
  {
   "cell_type": "code",
   "execution_count": null,
   "metadata": {},
   "outputs": [],
   "source": [
    "def ml_meanshift(data,h,theta):\n",
    "    # ml_meanshift returns cluster indices and modes from computed with meanshift algorithm\n",
    "\n",
    "    # initialization\n",
    "    #initialize modes\n",
    "    modes = \n",
    "    #initialize index variable for data points\n",
    "    index = \n",
    "    #s = number of data points\n",
    "    s = \n",
    "\n",
    "    #take i-th element as query point\n",
    "    for i in range(s):\n",
    "        #initialize starting q0 and q1 condition\n",
    "        q1 = \n",
    "        q0 = \n",
    "\n",
    "        #iteration initilization\n",
    "        it = 0\n",
    "\n",
    "        while ():\n",
    "            #update break criterion values\n",
    "\n",
    "            #update iteration\n",
    "            it = it+1\n",
    "\n",
    "        #check for clusters in the vicinity\n",
    "        #1st condition: if mode is not empty\n",
    "        #2nd: if a cluster mode exists closer than h/5\n",
    "        #else create a new cluster\n",
    "\n",
    "    return index, modes"
   ]
  },
  {
   "cell_type": "code",
   "execution_count": null,
   "metadata": {},
   "outputs": [],
   "source": [
    "# test and visualise your results\n",
    "test_meanshift()"
   ]
  }
 ],
 "metadata": {
  "colab": {
   "provenance": []
  },
  "kernelspec": {
   "display_name": "Python 3 (ipykernel)",
   "language": "python",
   "name": "python3"
  },
  "language_info": {
   "codemirror_mode": {
    "name": "ipython",
    "version": 3
   },
   "file_extension": ".py",
   "mimetype": "text/x-python",
   "name": "python",
   "nbconvert_exporter": "python",
   "pygments_lexer": "ipython3",
   "version": "3.8.8"
  }
 },
 "nbformat": 4,
 "nbformat_minor": 1
}
