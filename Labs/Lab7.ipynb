{
  "cells": [
    {
      "cell_type": "markdown",
      "source": [
        "**This exercise focuses on the deep learning and classication task. The total point is 17 points (16 points + 1 bonus point).<br/>**\n",
        "\n",
        "\n",
        "1.   Data loading. [0.5 point]\n",
        "2.   Data preparation. [5.5 point]\n",
        "3.   Training. [6 point]\n",
        "4.   Loss & accuracy plot. [1 point]\n",
        "5.   Test set prediction. [1 point]\n",
        "6.   Evaluation/metric. [0.5 point] \n",
        "7.   Prediction of individual image. [1.5 point]\n",
        "\n",
        "[Click here to download the dataset of this exercise](https://drive.google.com/file/d/1ChimpR2v7rg6hHaQB-dHlN6W6WSK9Suj/view?usp=share_link)\n",
        "\n"
      ],
      "metadata": {
        "id": "A1zgcsWGDK14"
      },
      "id": "A1zgcsWGDK14"
    },
    {
      "cell_type": "markdown",
      "id": "german-arthritis",
      "metadata": {
        "id": "german-arthritis",
        "papermill": {
          "duration": 0.040835,
          "end_time": "2021-06-12T10:04:14.745348",
          "exception": false,
          "start_time": "2021-06-12T10:04:14.704513",
          "status": "completed"
        },
        "tags": []
      },
      "source": [
        "# **0. Importing Libraries**\n"
      ]
    },
    {
      "cell_type": "code",
      "execution_count": null,
      "id": "intermediate-sewing",
      "metadata": {
        "_cell_guid": "b1076dfc-b9ad-4769-8c92-a6c4dae69d19",
        "_uuid": "8f2839f25d086af736a60e9eeb907d3b93b6e0e5",
        "execution": {
          "iopub.execute_input": "2021-06-12T10:04:14.838046Z",
          "iopub.status.busy": "2021-06-12T10:04:14.837354Z",
          "iopub.status.idle": "2021-06-12T10:04:17.255172Z",
          "shell.execute_reply": "2021-06-12T10:04:17.254548Z",
          "shell.execute_reply.started": "2021-06-12T07:54:57.477266Z"
        },
        "id": "intermediate-sewing",
        "papermill": {
          "duration": 2.469379,
          "end_time": "2021-06-12T10:04:17.255327",
          "exception": false,
          "start_time": "2021-06-12T10:04:14.785948",
          "status": "completed"
        },
        "tags": []
      },
      "outputs": [],
      "source": [
        "import numpy as np\n",
        "import pandas as pd\n",
        "\n",
        "import os\n",
        "import random\n",
        "from operator import itemgetter\n",
        "import copy\n",
        "import time\n",
        "\n",
        "import torch\n",
        "import torchvision\n",
        "import torchvision.transforms as transform\n",
        "from torchvision.datasets import ImageFolder\n",
        "from torch.utils.data import DataLoader, Dataset, ConcatDataset\n",
        "import torch.nn as nn\n",
        "import torchvision.models as models\n",
        "from torchvision.utils import make_grid\n",
        "import torch.nn.functional as F\n",
        "\n",
        "from sklearn.metrics import confusion_matrix, classification_report\n",
        "\n",
        "import matplotlib.pyplot as plt\n",
        "import matplotlib.image as mpimg\n",
        "from matplotlib.image import imread\n",
        "import seaborn as sns\n",
        "\n",
        "from sklearn.model_selection import train_test_split\n",
        "\n",
        "import warnings\n",
        "warnings.filterwarnings('ignore')\n",
        "\n",
        "device= torch.device('cuda:0' if torch.cuda.is_available() else 'cpu')"
      ]
    },
    {
      "cell_type": "markdown",
      "id": "excited-mercury",
      "metadata": {
        "id": "excited-mercury",
        "papermill": {
          "duration": 0.038217,
          "end_time": "2021-06-12T10:04:17.332389",
          "exception": false,
          "start_time": "2021-06-12T10:04:17.294172",
          "status": "completed"
        },
        "tags": []
      },
      "source": [
        "# **1. Data Loading**\n",
        "* check some samples"
      ]
    },
    {
      "cell_type": "markdown",
      "id": "indirect-ceramic",
      "metadata": {
        "id": "indirect-ceramic",
        "papermill": {
          "duration": 0.038368,
          "end_time": "2021-06-12T10:04:17.568780",
          "exception": false,
          "start_time": "2021-06-12T10:04:17.530412",
          "status": "completed"
        },
        "tags": []
      },
      "source": [
        "**Let's take a quick look at the data. :)**"
      ]
    },
    {
      "cell_type": "code",
      "execution_count": null,
      "id": "herbal-albania",
      "metadata": {
        "execution": {
          "iopub.execute_input": "2021-06-12T10:04:17.490579Z",
          "iopub.status.busy": "2021-06-12T10:04:17.489345Z",
          "iopub.status.idle": "2021-06-12T10:04:17.491673Z",
          "shell.execute_reply": "2021-06-12T10:04:17.492089Z",
          "shell.execute_reply.started": "2021-06-12T07:54:57.487478Z"
        },
        "id": "herbal-albania",
        "papermill": {
          "duration": 0.044651,
          "end_time": "2021-06-12T10:04:17.492210",
          "exception": false,
          "start_time": "2021-06-12T10:04:17.447559",
          "status": "completed"
        },
        "tags": []
      },
      "outputs": [],
      "source": [
        "# set the path to dataset folder\n",
        "path = 'flowers'\n",
        "\n",
        "# pick one kind of flower as example\n",
        "example = 'flowers/daisy'"
      ]
    },
    {
      "cell_type": "code",
      "execution_count": null,
      "id": "graduate-teddy",
      "metadata": {
        "execution": {
          "iopub.execute_input": "2021-06-12T10:04:17.648924Z",
          "iopub.status.busy": "2021-06-12T10:04:17.648400Z",
          "iopub.status.idle": "2021-06-12T10:04:17.849221Z",
          "shell.execute_reply": "2021-06-12T10:04:17.848798Z",
          "shell.execute_reply.started": "2021-06-12T07:54:57.499682Z"
        },
        "id": "graduate-teddy",
        "papermill": {
          "duration": 0.242251,
          "end_time": "2021-06-12T10:04:17.849336",
          "exception": false,
          "start_time": "2021-06-12T10:04:17.607085",
          "status": "completed"
        },
        "tags": []
      },
      "outputs": [],
      "source": [
        "# show example image\n",
        "img = mpimg.imread(example + '/100080576_f52e8ee070_n.jpg')\n",
        "print('Shape:', img.shape)\n",
        "plt.imshow(img);"
      ]
    },
    {
      "cell_type": "markdown",
      "id": "75690c89",
      "metadata": {
        "id": "75690c89"
      },
      "source": [
        "**From the shape of image, we know there are 3 channels. <br/>\n",
        "Let's check image channels separately**"
      ]
    },
    {
      "cell_type": "code",
      "execution_count": null,
      "id": "eec49175",
      "metadata": {
        "id": "eec49175"
      },
      "outputs": [],
      "source": [
        "# [0.5 point] for this code block\n",
        "# TODO: check 3 channels visually and separately \n",
        "###"
      ]
    },
    {
      "cell_type": "markdown",
      "id": "successful-slovenia",
      "metadata": {
        "id": "successful-slovenia",
        "papermill": {
          "duration": 0.041582,
          "end_time": "2021-06-12T10:04:17.933374",
          "exception": false,
          "start_time": "2021-06-12T10:04:17.891792",
          "status": "completed"
        },
        "tags": []
      },
      "source": [
        "**From the image above, you can understand that they are not normalized (which is very expected), let's check the histogram of this image:**"
      ]
    },
    {
      "cell_type": "code",
      "execution_count": null,
      "id": "expired-publicity",
      "metadata": {
        "execution": {
          "iopub.execute_input": "2021-06-12T10:04:18.045130Z",
          "iopub.status.busy": "2021-06-12T10:04:18.044457Z",
          "iopub.status.idle": "2021-06-12T10:04:18.301965Z",
          "shell.execute_reply": "2021-06-12T10:04:18.302619Z",
          "shell.execute_reply.started": "2021-06-12T07:54:57.709865Z"
        },
        "id": "expired-publicity",
        "papermill": {
          "duration": 0.326954,
          "end_time": "2021-06-12T10:04:18.302870",
          "exception": false,
          "start_time": "2021-06-12T10:04:17.975916",
          "status": "completed"
        },
        "tags": []
      },
      "outputs": [],
      "source": [
        "def plotHist(img):\n",
        "    plt.figure(figsize=(10,5))\n",
        "    plt.subplot(1,2,1)\n",
        "    plt.imshow(img)\n",
        "    plt.axis('off')\n",
        "    hist = plt.subplot(1,2,2)\n",
        "    hist.set_ylabel('Count')\n",
        "    hist.set_xlabel('Pixel Intensity')\n",
        "    plt.hist(img.flatten(), bins=10, lw=0, alpha=0.5, color='r')\n",
        "\n",
        "plotHist(img)"
      ]
    },
    {
      "cell_type": "markdown",
      "id": "daily-employment",
      "metadata": {
        "id": "daily-employment",
        "papermill": {
          "duration": 0.076791,
          "end_time": "2021-06-12T10:04:18.460246",
          "exception": false,
          "start_time": "2021-06-12T10:04:18.383455",
          "status": "completed"
        },
        "tags": []
      },
      "source": [
        "# **2. Data preparation**\n"
      ]
    },
    {
      "cell_type": "markdown",
      "id": "exceptional-annual",
      "metadata": {
        "id": "exceptional-annual",
        "papermill": {
          "duration": 0.074842,
          "end_time": "2021-06-12T10:04:18.611659",
          "exception": false,
          "start_time": "2021-06-12T10:04:18.536817",
          "status": "completed"
        },
        "tags": []
      },
      "source": [
        "**Let's write the dataset transformation, including normalization.**\n",
        "\n",
        "The \"original\" dataset is the original dataset, which we will split into two parts: test (20%) and training (80%).\n",
        "\n",
        "**Bonus: besides normalization, can you try other image augmentation?**"
      ]
    },
    {
      "cell_type": "code",
      "execution_count": null,
      "id": "political-causing",
      "metadata": {
        "execution": {
          "iopub.execute_input": "2021-06-12T10:04:18.747435Z",
          "iopub.status.busy": "2021-06-12T10:04:18.746495Z",
          "iopub.status.idle": "2021-06-12T10:04:18.749193Z",
          "shell.execute_reply": "2021-06-12T10:04:18.748667Z",
          "shell.execute_reply.started": "2021-06-12T07:55:05.291045Z"
        },
        "id": "political-causing",
        "papermill": {
          "duration": 0.063424,
          "end_time": "2021-06-12T10:04:18.749305",
          "exception": false,
          "start_time": "2021-06-12T10:04:18.685881",
          "status": "completed"
        },
        "tags": []
      },
      "outputs": [],
      "source": [
        "transformer = {\n",
        "    'original': transform.Compose([\n",
        "                                 transform.Resize((220, 220)),\n",
        "                                 transform.ToTensor(), \n",
        "                                 transform.Normalize((0.4124234616756439, 0.3674212694168091, 0.2578217089176178), \n",
        "                                                     (0.3268945515155792, 0.29282665252685547, 0.29053378105163574))\n",
        "])\n",
        "}"
      ]
    },
    {
      "cell_type": "markdown",
      "id": "ordered-pointer",
      "metadata": {
        "id": "ordered-pointer",
        "papermill": {
          "duration": 0.045137,
          "end_time": "2021-06-12T10:04:18.839058",
          "exception": false,
          "start_time": "2021-06-12T10:04:18.793921",
          "status": "completed"
        },
        "tags": []
      },
      "source": [
        "**pin_memory:** You know how sometimes your GPU memory shows that it’s full but you’re pretty sure that your model isn’t using that much? That overhead is called pinned memory. ie: this memory has been reserved as a type of “working allocation.”\n",
        "When you enable pinned_memory in a DataLoader it “automatically puts the fetched data Tensors in pinned memory, and enables faster data transfer to CUDA-enabled GPUs”\n",
        "\n",
        "**num_workers:** PyTorch allows loading data on multiple processes simultaneously. A good rule: ***num_worker = 4 * num_GPU***"
      ]
    },
    {
      "cell_type": "code",
      "execution_count": null,
      "id": "tired-genre",
      "metadata": {
        "execution": {
          "iopub.execute_input": "2021-06-12T10:04:18.936506Z",
          "iopub.status.busy": "2021-06-12T10:04:18.935906Z",
          "iopub.status.idle": "2021-06-12T10:06:11.127173Z",
          "shell.execute_reply": "2021-06-12T10:06:11.126566Z",
          "shell.execute_reply.started": "2021-06-12T07:55:08.995429Z"
        },
        "id": "tired-genre",
        "papermill": {
          "duration": 112.243217,
          "end_time": "2021-06-12T10:06:11.127329",
          "exception": false,
          "start_time": "2021-06-12T10:04:18.884112",
          "status": "completed"
        },
        "tags": []
      },
      "outputs": [],
      "source": [
        "# [2 point] for this code block\n",
        "# define batch size\n",
        "bs = 50\n",
        "\n",
        "# TODO: create PyTorch dataset (HINT: USE torchvision.datasets.ImageFolder)\n",
        "###\n",
        "\n",
        "# TODO: define train, val, test set\n",
        "###\n",
        "\n",
        "# TODO: create dataloader\n",
        "###\n",
        "\n",
        "# check the dataset size\n",
        "dataset_sizes = {\n",
        "    'train': len(train),\n",
        "    'val': len(val), \n",
        "    'test': len(test),\n",
        "}\n",
        "print(dataset_sizes)"
      ]
    },
    {
      "cell_type": "markdown",
      "id": "infrared-intersection",
      "metadata": {
        "id": "infrared-intersection",
        "papermill": {
          "duration": 0.051184,
          "end_time": "2021-06-12T10:06:11.735408",
          "exception": false,
          "start_time": "2021-06-12T10:06:11.684224",
          "status": "completed"
        },
        "tags": []
      },
      "source": [
        "**Now let's check how well we managed to normalize the data for each channel for the test, training and validation datasets:** <br/>\n",
        "check the mean and standard deviation of each channal in each subset"
      ]
    },
    {
      "cell_type": "code",
      "execution_count": null,
      "id": "fuzzy-catering",
      "metadata": {
        "execution": {
          "iopub.execute_input": "2021-06-12T10:06:11.845815Z",
          "iopub.status.busy": "2021-06-12T10:06:11.844981Z",
          "iopub.status.idle": "2021-06-12T10:07:29.575314Z",
          "shell.execute_reply": "2021-06-12T10:07:29.573884Z",
          "shell.execute_reply.started": "2021-06-12T07:59:17.600689Z"
        },
        "id": "fuzzy-catering",
        "papermill": {
          "duration": 77.788502,
          "end_time": "2021-06-12T10:07:29.575593",
          "exception": false,
          "start_time": "2021-06-12T10:06:11.787091",
          "status": "completed"
        },
        "tags": []
      },
      "outputs": [],
      "source": [
        "# [1 point] for this code block\n",
        "channels = 3\n",
        "\n",
        "for channel in range(channels):\n",
        "    for x in ['train', 'val', 'test']:\n",
        "        #number of pixels in the dataset = number of all pixels in one object * number of all objects in the dataset\n",
        "        num_pxl = # TODO: YOUR CODES HERE\n",
        "    \n",
        "        #we go through the butches and sum up the pixels of the objects, \n",
        "        #which then divide the sum by the number of all pixels to calculate the average\n",
        "        total_sum = 0\n",
        "        for batch in loaders[x]:\n",
        "            # TODO: YOUR CODES HERE\n",
        "            \n",
        "        mean = # TODO: YOUR CODES HERE\n",
        "\n",
        "        #we calculate the standard deviation using the formula that I indicated above\n",
        "        # TODO: YOUR CODES HERE\n",
        "        \n",
        "        print(f'|channel:{channel+1}| {x} - mean: {mean}, std: {std}')"
      ]
    },
    {
      "cell_type": "markdown",
      "id": "upset-withdrawal",
      "metadata": {
        "id": "upset-withdrawal",
        "papermill": {
          "duration": 0.087157,
          "end_time": "2021-06-12T10:07:29.761246",
          "exception": false,
          "start_time": "2021-06-12T10:07:29.674089",
          "status": "completed"
        },
        "tags": []
      },
      "source": [
        "**Let's take a batch from the training dataset and see its mean and standard deviation:**"
      ]
    },
    {
      "cell_type": "code",
      "execution_count": null,
      "id": "uniform-candy",
      "metadata": {
        "execution": {
          "iopub.execute_input": "2021-06-12T10:07:29.942991Z",
          "iopub.status.busy": "2021-06-12T10:07:29.942225Z",
          "iopub.status.idle": "2021-06-12T10:07:30.689206Z",
          "shell.execute_reply": "2021-06-12T10:07:30.689617Z",
          "shell.execute_reply.started": "2021-06-12T08:00:32.965381Z"
        },
        "id": "uniform-candy",
        "papermill": {
          "duration": 0.840821,
          "end_time": "2021-06-12T10:07:30.689786",
          "exception": false,
          "start_time": "2021-06-12T10:07:29.848965",
          "status": "completed"
        },
        "tags": []
      },
      "outputs": [],
      "source": [
        "x, y = next(iter(loaders['train']))\n",
        "x.mean(),  x.std()"
      ]
    },
    {
      "cell_type": "markdown",
      "id": "inappropriate-retention",
      "metadata": {
        "id": "inappropriate-retention",
        "papermill": {
          "duration": 0.053428,
          "end_time": "2021-06-12T10:07:30.797252",
          "exception": false,
          "start_time": "2021-06-12T10:07:30.743824",
          "status": "completed"
        },
        "tags": []
      },
      "source": [
        "**Let's take a look at the pixel distribution after normalization. Compared to the distribution at the beginning, the difference is large**"
      ]
    },
    {
      "cell_type": "code",
      "execution_count": null,
      "id": "sunrise-rochester",
      "metadata": {
        "execution": {
          "iopub.execute_input": "2021-06-12T10:07:30.909377Z",
          "iopub.status.busy": "2021-06-12T10:07:30.908634Z",
          "iopub.status.idle": "2021-06-12T10:07:31.815196Z",
          "shell.execute_reply": "2021-06-12T10:07:31.814731Z",
          "shell.execute_reply.started": "2021-06-12T08:00:36.476558Z"
        },
        "id": "sunrise-rochester",
        "papermill": {
          "duration": 0.964836,
          "end_time": "2021-06-12T10:07:31.815321",
          "exception": false,
          "start_time": "2021-06-12T10:07:30.850485",
          "status": "completed"
        },
        "tags": []
      },
      "outputs": [],
      "source": [
        "# [0.5 point] for this code block\n",
        "# randomly pick a sample from train set\n",
        "x, y = next(iter(loaders['train']))\n",
        "# TODO: YOUR CODES HERE"
      ]
    },
    {
      "cell_type": "markdown",
      "id": "canadian-teacher",
      "metadata": {
        "id": "canadian-teacher",
        "papermill": {
          "duration": 0.058692,
          "end_time": "2021-06-12T10:07:31.935527",
          "exception": false,
          "start_time": "2021-06-12T10:07:31.876835",
          "status": "completed"
        },
        "tags": []
      },
      "source": [
        "**This is how we can look at our classes. There are only five of them, which is not much**"
      ]
    },
    {
      "cell_type": "code",
      "execution_count": null,
      "id": "indirect-pride",
      "metadata": {
        "execution": {
          "iopub.execute_input": "2021-06-12T10:07:32.058986Z",
          "iopub.status.busy": "2021-06-12T10:07:32.058308Z",
          "iopub.status.idle": "2021-06-12T10:07:32.062672Z",
          "shell.execute_reply": "2021-06-12T10:07:32.063251Z",
          "shell.execute_reply.started": "2021-06-12T08:00:40.326154Z"
        },
        "id": "indirect-pride",
        "papermill": {
          "duration": 0.068622,
          "end_time": "2021-06-12T10:07:32.063443",
          "exception": false,
          "start_time": "2021-06-12T10:07:31.994821",
          "status": "completed"
        },
        "tags": []
      },
      "outputs": [],
      "source": [
        "print('Classes:', original.classes)\n",
        "print('Number of classes:', len(original.classes))"
      ]
    },
    {
      "cell_type": "markdown",
      "id": "realistic-royal",
      "metadata": {
        "id": "realistic-royal",
        "papermill": {
          "duration": 0.057889,
          "end_time": "2021-06-12T10:07:32.181669",
          "exception": false,
          "start_time": "2021-06-12T10:07:32.123780",
          "status": "completed"
        },
        "tags": []
      },
      "source": [
        "**Let's check how imbalanced our data is. How many samples in each class?**"
      ]
    },
    {
      "cell_type": "code",
      "execution_count": null,
      "id": "loving-burton",
      "metadata": {
        "execution": {
          "iopub.execute_input": "2021-06-12T10:07:32.303445Z",
          "iopub.status.busy": "2021-06-12T10:07:32.302895Z",
          "iopub.status.idle": "2021-06-12T10:07:32.329962Z",
          "shell.execute_reply": "2021-06-12T10:07:32.329240Z",
          "shell.execute_reply.started": "2021-06-12T08:01:06.125037Z"
        },
        "id": "loving-burton",
        "papermill": {
          "duration": 0.089794,
          "end_time": "2021-06-12T10:07:32.330122",
          "exception": false,
          "start_time": "2021-06-12T10:07:32.240328",
          "status": "completed"
        },
        "tags": []
      },
      "outputs": [],
      "source": [
        "# [0.5 point] for this code block\n",
        "# TODO: YOUR CODES HERE"
      ]
    },
    {
      "cell_type": "markdown",
      "id": "secondary-backing",
      "metadata": {
        "id": "secondary-backing",
        "papermill": {
          "duration": 0.059176,
          "end_time": "2021-06-12T10:07:32.588999",
          "exception": false,
          "start_time": "2021-06-12T10:07:32.529823",
          "status": "completed"
        },
        "tags": []
      },
      "source": [
        "**Visualize the result (e.g. use bar plot to show number of samples in each class)**"
      ]
    },
    {
      "cell_type": "code",
      "execution_count": null,
      "id": "strategic-cologne",
      "metadata": {
        "execution": {
          "iopub.execute_input": "2021-06-12T10:07:32.728727Z",
          "iopub.status.busy": "2021-06-12T10:07:32.727899Z",
          "iopub.status.idle": "2021-06-12T10:07:33.080727Z",
          "shell.execute_reply": "2021-06-12T10:07:33.080306Z",
          "shell.execute_reply.started": "2021-06-12T08:01:10.448639Z"
        },
        "id": "strategic-cologne",
        "papermill": {
          "duration": 0.433226,
          "end_time": "2021-06-12T10:07:33.080861",
          "exception": false,
          "start_time": "2021-06-12T10:07:32.647635",
          "status": "completed"
        },
        "tags": []
      },
      "outputs": [],
      "source": [
        "# [0.5 point] for this code block\n",
        "# TODO: YOUR CODES HERE"
      ]
    },
    {
      "cell_type": "markdown",
      "id": "6cc8ea62",
      "metadata": {
        "id": "6cc8ea62"
      },
      "source": [
        "**Do we need to handle the imbalance? What do you think**"
      ]
    },
    {
      "cell_type": "markdown",
      "id": "stable-while",
      "metadata": {
        "id": "stable-while",
        "papermill": {
          "duration": 0.05973,
          "end_time": "2021-06-12T10:07:33.202541",
          "exception": false,
          "start_time": "2021-06-12T10:07:33.142811",
          "status": "completed"
        },
        "tags": []
      },
      "source": [
        "**Let's see how the images from the original dataset look like without changes:**"
      ]
    },
    {
      "cell_type": "code",
      "execution_count": null,
      "id": "fuzzy-vision",
      "metadata": {
        "execution": {
          "iopub.execute_input": "2021-06-12T10:07:33.331403Z",
          "iopub.status.busy": "2021-06-12T10:07:33.330531Z",
          "iopub.status.idle": "2021-06-12T10:07:34.885708Z",
          "shell.execute_reply": "2021-06-12T10:07:34.886204Z",
          "shell.execute_reply.started": "2021-06-12T08:01:14.692581Z"
        },
        "id": "fuzzy-vision",
        "papermill": {
          "duration": 1.623671,
          "end_time": "2021-06-12T10:07:34.886367",
          "exception": false,
          "start_time": "2021-06-12T10:07:33.262696",
          "status": "completed"
        },
        "tags": []
      },
      "outputs": [],
      "source": [
        "# Function for plotting samples\n",
        "def plot_samples(samples):  \n",
        "    fig, ax = plt.subplots(nrows=5, ncols=5, figsize=(15,12))\n",
        "    i = 0\n",
        "    for row in range(5):\n",
        "         for col in range(5):\n",
        "                img = mpimg.imread(samples[i][0][0])\n",
        "                ax[row][col].imshow(img)\n",
        "                ax[row][col].axis('off')\n",
        "                ax[row][col].set_title(samples[i][1], fontsize=15)\n",
        "                i+=1\n",
        "\n",
        "rand_samples = [] \n",
        "for _ in range(25): \n",
        "    classes = random.choice(original.classes)\n",
        "    rand_samples.append([random.sample([os.path.join(path+'/'+classes, filename) for filename in os.listdir(path+'/'+classes)], 1), classes]) \n",
        "rand_samples[0]\n",
        "plot_samples(rand_samples)\n",
        "plt.suptitle('Samples', fontsize=30)\n",
        "plt.show()"
      ]
    },
    {
      "cell_type": "markdown",
      "id": "aggregate-tampa",
      "metadata": {
        "id": "aggregate-tampa",
        "papermill": {
          "duration": 0.088364,
          "end_time": "2021-06-12T10:07:35.057297",
          "exception": false,
          "start_time": "2021-06-12T10:07:34.968933",
          "status": "completed"
        },
        "tags": []
      },
      "source": [
        "**And this is how images with augmentation look like**"
      ]
    },
    {
      "cell_type": "code",
      "execution_count": null,
      "id": "organizational-current",
      "metadata": {
        "execution": {
          "iopub.execute_input": "2021-06-12T10:07:35.232338Z",
          "iopub.status.busy": "2021-06-12T10:07:35.231240Z",
          "iopub.status.idle": "2021-06-12T10:07:37.427354Z",
          "shell.execute_reply": "2021-06-12T10:07:37.427776Z",
          "shell.execute_reply.started": "2021-06-12T08:01:20.954744Z"
        },
        "id": "organizational-current",
        "papermill": {
          "duration": 2.286269,
          "end_time": "2021-06-12T10:07:37.427926",
          "exception": false,
          "start_time": "2021-06-12T10:07:35.141657",
          "status": "completed"
        },
        "tags": []
      },
      "outputs": [],
      "source": [
        "# [1 point] for this code block\n",
        "def show_batch(dl):\n",
        "    for images, labels in dl:\n",
        "        # TODO: YOUR CODES HERE\n",
        "        \n",
        "show_batch(loaders['train'])"
      ]
    },
    {
      "cell_type": "markdown",
      "id": "curious-extraction",
      "metadata": {
        "id": "curious-extraction",
        "papermill": {
          "duration": 0.118149,
          "end_time": "2021-06-12T10:07:37.663188",
          "exception": false,
          "start_time": "2021-06-12T10:07:37.545039",
          "status": "completed"
        },
        "tags": []
      },
      "source": [
        "# 3. Training and Test"
      ]
    },
    {
      "cell_type": "markdown",
      "id": "intensive-illinois",
      "metadata": {
        "id": "intensive-illinois",
        "papermill": {
          "duration": 0.114014,
          "end_time": "2021-06-12T10:07:37.892397",
          "exception": false,
          "start_time": "2021-06-12T10:07:37.778383",
          "status": "completed"
        },
        "tags": []
      },
      "source": [
        "In order not to count the accuracy many times, we write the function to compute the classification accuracy between prediction and ground truth."
      ]
    },
    {
      "cell_type": "code",
      "execution_count": null,
      "id": "undefined-recipe",
      "metadata": {
        "execution": {
          "iopub.execute_input": "2021-06-12T10:07:38.129041Z",
          "iopub.status.busy": "2021-06-12T10:07:38.128449Z",
          "iopub.status.idle": "2021-06-12T10:07:38.132190Z",
          "shell.execute_reply": "2021-06-12T10:07:38.132616Z",
          "shell.execute_reply.started": "2021-06-12T08:01:34.0535Z"
        },
        "id": "undefined-recipe",
        "papermill": {
          "duration": 0.124871,
          "end_time": "2021-06-12T10:07:38.132770",
          "exception": false,
          "start_time": "2021-06-12T10:07:38.007899",
          "status": "completed"
        },
        "tags": []
      },
      "outputs": [],
      "source": [
        "# [1 point] for this code block\n",
        "def accuracy(outputs, labels):\n",
        "    # TODO: YOUR CODES HERE"
      ]
    },
    {
      "cell_type": "markdown",
      "id": "european-beaver",
      "metadata": {
        "id": "european-beaver",
        "papermill": {
          "duration": 0.115766,
          "end_time": "2021-06-12T10:07:38.362711",
          "exception": false,
          "start_time": "2021-06-12T10:07:38.246945",
          "status": "completed"
        },
        "tags": []
      },
      "source": [
        "**This is where we will record the history of learning, so that we can make visualization later. We need visualization to evaluate learning, for example, overfitting or underfitting. Of course, we can analyze with numbers, but it is much easier to perceive information visually**"
      ]
    },
    {
      "cell_type": "code",
      "execution_count": null,
      "id": "agreed-welding",
      "metadata": {
        "execution": {
          "iopub.execute_input": "2021-06-12T10:07:38.601731Z",
          "iopub.status.busy": "2021-06-12T10:07:38.600901Z",
          "iopub.status.idle": "2021-06-12T10:07:38.603637Z",
          "shell.execute_reply": "2021-06-12T10:07:38.603230Z",
          "shell.execute_reply.started": "2021-06-12T08:01:34.130344Z"
        },
        "id": "agreed-welding",
        "papermill": {
          "duration": 0.125255,
          "end_time": "2021-06-12T10:07:38.603764",
          "exception": false,
          "start_time": "2021-06-12T10:07:38.478509",
          "status": "completed"
        },
        "tags": []
      },
      "outputs": [],
      "source": [
        "#save the losses for further visualization\n",
        "losses = {'train':[], 'val':[]}\n",
        "accuracies = {'train':[], 'val':[]}\n",
        "lr = []"
      ]
    },
    {
      "cell_type": "markdown",
      "id": "geological-starter",
      "metadata": {
        "id": "geological-starter",
        "papermill": {
          "duration": 0.11987,
          "end_time": "2021-06-12T10:07:38.838616",
          "exception": false,
          "start_time": "2021-06-12T10:07:38.718746",
          "status": "completed"
        },
        "tags": []
      },
      "source": [
        "### Train function structure:\n",
        "TODO list:\n",
        "* define loss, optimizer\n",
        "* set different behavior of model for train and validation step\n",
        "* keep the record of loss and accuracy \n",
        "* keep the best model"
      ]
    },
    {
      "cell_type": "code",
      "execution_count": null,
      "id": "aging-factory",
      "metadata": {
        "execution": {
          "iopub.execute_input": "2021-06-12T10:07:39.102594Z",
          "iopub.status.busy": "2021-06-12T10:07:39.101709Z",
          "iopub.status.idle": "2021-06-12T10:07:39.105184Z",
          "shell.execute_reply": "2021-06-12T10:07:39.104739Z",
          "shell.execute_reply.started": "2021-06-12T08:01:34.209631Z"
        },
        "id": "aging-factory",
        "papermill": {
          "duration": 0.148363,
          "end_time": "2021-06-12T10:07:39.105302",
          "exception": false,
          "start_time": "2021-06-12T10:07:38.956939",
          "status": "completed"
        },
        "tags": []
      },
      "outputs": [],
      "source": [
        "# [5 point] for this code block\n",
        "def train(epochs, model):\n",
        "    \n",
        "    model.to(device)  \n",
        "    # TODO: YOUR CODES HERE\n",
        "    \n",
        "    since = time.time()\n",
        "    best_model = copy.deepcopy(model.state_dict())\n",
        "    best_acc = 0.0\n",
        "\n",
        "    for epoch in range(epochs):\n",
        "        for phase in ['train', 'val']:\n",
        "            if phase == 'train':\n",
        "                # TODO: YOUR CODES HERE\n",
        "            else:\n",
        "                # TODO: YOUR CODES HERE\n",
        "      \n",
        "            running_loss = 0.0\n",
        "            running_corrects = 0.0\n",
        "            \n",
        "            for inputs, labels in loaders[phase]:\n",
        "                # TODO: YOUR CODES HERE\n",
        "                    \n",
        "                if phase == 'train':\n",
        "                    # TODO: YOUR CODES HERE\n",
        "                    \n",
        "                running_loss += loss.item()*inputs.size(0)\n",
        "                running_corrects += torch.sum(pred == labels.data)\n",
        "\n",
        "    time_elapsed = time.time() - since\n",
        "    print('CLASSIFIER TRAINING TIME {}m {}s'.format(time_elapsed//60, time_elapsed%60))\n",
        "    print('=='*31)\n",
        "\n",
        "    return model"
      ]
    },
    {
      "cell_type": "markdown",
      "id": "retired-bosnia",
      "metadata": {
        "id": "retired-bosnia",
        "papermill": {
          "duration": 0.11676,
          "end_time": "2021-06-12T10:07:39.337422",
          "exception": false,
          "start_time": "2021-06-12T10:07:39.220662",
          "status": "completed"
        },
        "tags": []
      },
      "source": [
        "# MODELS"
      ]
    },
    {
      "cell_type": "markdown",
      "id": "african-coordinate",
      "metadata": {
        "id": "african-coordinate",
        "papermill": {
          "duration": 0.112431,
          "end_time": "2021-06-12T10:07:43.297145",
          "exception": false,
          "start_time": "2021-06-12T10:07:43.184714",
          "status": "completed"
        },
        "tags": []
      },
      "source": [
        "**Let's use pretrained ResNet model**"
      ]
    },
    {
      "cell_type": "code",
      "execution_count": null,
      "id": "hired-marketing",
      "metadata": {
        "execution": {
          "iopub.execute_input": "2021-06-12T10:07:43.529297Z",
          "iopub.status.busy": "2021-06-12T10:07:43.528538Z",
          "iopub.status.idle": "2021-06-12T10:07:47.637594Z",
          "shell.execute_reply": "2021-06-12T10:07:47.638349Z",
          "shell.execute_reply.started": "2021-06-12T08:01:46.738459Z"
        },
        "id": "hired-marketing",
        "papermill": {
          "duration": 4.229341,
          "end_time": "2021-06-12T10:07:47.638553",
          "exception": false,
          "start_time": "2021-06-12T10:07:43.409212",
          "status": "completed"
        },
        "tags": []
      },
      "outputs": [],
      "source": [
        "resnet34 = torchvision.models.resnet34(pretrained=True)\n",
        "for param in resnet34.parameters():\n",
        "    param.grad_requires = False\n",
        "\n",
        "# replace the last layer as a new classifier, which is suitable for our data\n",
        "resnet34.fc = # TODO: YOUR CODES HERE"
      ]
    },
    {
      "cell_type": "markdown",
      "id": "protected-milwaukee",
      "metadata": {
        "id": "protected-milwaukee",
        "papermill": {
          "duration": 0.113628,
          "end_time": "2021-06-12T10:07:57.987043",
          "exception": false,
          "start_time": "2021-06-12T10:07:57.873415",
          "status": "completed"
        },
        "tags": []
      },
      "source": [
        "**Launching training**"
      ]
    },
    {
      "cell_type": "code",
      "execution_count": null,
      "id": "formed-teacher",
      "metadata": {
        "execution": {
          "iopub.execute_input": "2021-06-12T10:07:58.259012Z",
          "iopub.status.busy": "2021-06-12T10:07:58.258023Z",
          "iopub.status.idle": "2021-06-12T13:47:49.531592Z",
          "shell.execute_reply": "2021-06-12T13:47:49.532012Z"
        },
        "id": "formed-teacher",
        "papermill": {
          "duration": 13191.430873,
          "end_time": "2021-06-12T13:47:49.532192",
          "exception": false,
          "start_time": "2021-06-12T10:07:58.101319",
          "status": "completed"
        },
        "scrolled": true,
        "tags": []
      },
      "outputs": [],
      "source": [
        "epochs = 10\n",
        "\n",
        "train(epochs=epochs, model=resnet34)"
      ]
    },
    {
      "cell_type": "markdown",
      "id": "laden-jimmy",
      "metadata": {
        "id": "laden-jimmy",
        "papermill": {
          "duration": 0.173421,
          "end_time": "2021-06-12T13:47:49.879850",
          "exception": false,
          "start_time": "2021-06-12T13:47:49.706429",
          "status": "completed"
        },
        "tags": []
      },
      "source": [
        "# 4. Loss and Accuracy Plots"
      ]
    },
    {
      "cell_type": "markdown",
      "id": "round-indonesia",
      "metadata": {
        "id": "round-indonesia",
        "papermill": {
          "duration": 0.171207,
          "end_time": "2021-06-12T13:47:50.224421",
          "exception": false,
          "start_time": "2021-06-12T13:47:50.053214",
          "status": "completed"
        },
        "tags": []
      },
      "source": [
        "**Visualize the accuracy and loss of train and validation set during the model learning**"
      ]
    },
    {
      "cell_type": "code",
      "execution_count": null,
      "id": "174c53b2",
      "metadata": {
        "id": "174c53b2"
      },
      "outputs": [],
      "source": [
        "# [0.5 point] for this code block\n",
        "# plot of train and validation accuracy, vs epoch number\n",
        "# TODO: YOUR CODES HERE "
      ]
    },
    {
      "cell_type": "code",
      "execution_count": null,
      "id": "a56028ae",
      "metadata": {
        "id": "a56028ae"
      },
      "outputs": [],
      "source": [
        "# [0.5 point] for this code block\n",
        "#plot of train and validation loss, vs epoch number\n",
        "# TODO: YOUR CODES HERE "
      ]
    },
    {
      "cell_type": "markdown",
      "id": "specific-receipt",
      "metadata": {
        "id": "specific-receipt",
        "papermill": {
          "duration": 0.181155,
          "end_time": "2021-06-12T13:47:53.446327",
          "exception": false,
          "start_time": "2021-06-12T13:47:53.265172",
          "status": "completed"
        },
        "tags": []
      },
      "source": [
        "# 5. Test set predictions"
      ]
    },
    {
      "cell_type": "markdown",
      "id": "respective-allen",
      "metadata": {
        "id": "respective-allen",
        "papermill": {
          "duration": 0.186348,
          "end_time": "2021-06-12T13:47:54.947695",
          "exception": false,
          "start_time": "2021-06-12T13:47:54.761347",
          "status": "completed"
        },
        "tags": []
      },
      "source": [
        "**These functions will help us when calculating the accuracy**"
      ]
    },
    {
      "cell_type": "code",
      "execution_count": null,
      "id": "spectacular-survivor",
      "metadata": {
        "execution": {
          "iopub.execute_input": "2021-06-12T13:47:56.022197Z",
          "iopub.status.busy": "2021-06-12T13:47:56.021290Z",
          "iopub.status.idle": "2021-06-12T13:47:56.024130Z",
          "shell.execute_reply": "2021-06-12T13:47:56.023609Z"
        },
        "id": "spectacular-survivor",
        "papermill": {
          "duration": 0.185915,
          "end_time": "2021-06-12T13:47:56.024242",
          "exception": false,
          "start_time": "2021-06-12T13:47:55.838327",
          "status": "completed"
        },
        "tags": []
      },
      "outputs": [],
      "source": [
        "# [1 point] for this code block\n",
        "@torch.no_grad()\n",
        "def test_predict(model, test_loader):\n",
        "    model.eval()\n",
        "    # perform testing for each batch\n",
        "    \n",
        "    # TODO: YOUR CODES HERE \n",
        "    \n",
        "    # return prediction and label\n",
        "    return results['test_preds'], results['test_labels']"
      ]
    },
    {
      "cell_type": "markdown",
      "id": "fundamental-server",
      "metadata": {
        "id": "fundamental-server",
        "papermill": {
          "duration": 0.180191,
          "end_time": "2021-06-12T13:47:56.386952",
          "exception": false,
          "start_time": "2021-06-12T13:47:56.206761",
          "status": "completed"
        },
        "tags": []
      },
      "source": [
        "**What's the loss and accuracy of the test set?**"
      ]
    },
    {
      "cell_type": "code",
      "execution_count": null,
      "id": "fatty-providence",
      "metadata": {
        "execution": {
          "iopub.execute_input": "2021-06-12T13:47:56.747245Z",
          "iopub.status.busy": "2021-06-12T13:47:56.746347Z",
          "iopub.status.idle": "2021-06-12T13:48:09.425278Z",
          "shell.execute_reply": "2021-06-12T13:48:09.426571Z"
        },
        "id": "fatty-providence",
        "papermill": {
          "duration": 12.864167,
          "end_time": "2021-06-12T13:48:09.426835",
          "exception": false,
          "start_time": "2021-06-12T13:47:56.562668",
          "status": "completed"
        },
        "tags": []
      },
      "outputs": [],
      "source": [
        "model=resnet34\n",
        "model.to(device)\n",
        "preds,labels = test_predict(model, loaders['test'])"
      ]
    },
    {
      "cell_type": "markdown",
      "id": "clinical-boulder",
      "metadata": {
        "id": "clinical-boulder",
        "papermill": {
          "duration": 0.183066,
          "end_time": "2021-06-12T13:48:13.421256",
          "exception": false,
          "start_time": "2021-06-12T13:48:13.238190",
          "status": "completed"
        },
        "tags": []
      },
      "source": [
        "# 6. Metrics"
      ]
    },
    {
      "cell_type": "code",
      "execution_count": null,
      "id": "cooperative-aircraft",
      "metadata": {
        "execution": {
          "iopub.execute_input": "2021-06-12T13:48:13.794222Z",
          "iopub.status.busy": "2021-06-12T13:48:13.793430Z",
          "iopub.status.idle": "2021-06-12T13:48:13.811289Z",
          "shell.execute_reply": "2021-06-12T13:48:13.810879Z"
        },
        "id": "cooperative-aircraft",
        "papermill": {
          "duration": 0.206741,
          "end_time": "2021-06-12T13:48:13.811402",
          "exception": false,
          "start_time": "2021-06-12T13:48:13.604661",
          "status": "completed"
        },
        "tags": []
      },
      "outputs": [],
      "source": [
        "report = classification_report(labels, preds,\n",
        "                               output_dict=True,\n",
        "                               target_names=original.classes)\n",
        "report_df = pd.DataFrame(report).transpose()"
      ]
    },
    {
      "cell_type": "code",
      "execution_count": null,
      "id": "extra-paintball",
      "metadata": {
        "execution": {
          "iopub.execute_input": "2021-06-12T13:48:14.211454Z",
          "iopub.status.busy": "2021-06-12T13:48:14.210493Z",
          "iopub.status.idle": "2021-06-12T13:48:14.214978Z",
          "shell.execute_reply": "2021-06-12T13:48:14.214364Z"
        },
        "id": "extra-paintball",
        "papermill": {
          "duration": 0.207286,
          "end_time": "2021-06-12T13:48:14.215099",
          "exception": false,
          "start_time": "2021-06-12T13:48:14.007813",
          "status": "completed"
        },
        "tags": []
      },
      "outputs": [],
      "source": [
        "pd.set_option(\"display.max_rows\", None)\n",
        "report_df.head(134)"
      ]
    },
    {
      "cell_type": "code",
      "execution_count": null,
      "id": "natural-penetration",
      "metadata": {
        "execution": {
          "iopub.execute_input": "2021-06-12T13:48:14.597519Z",
          "iopub.status.busy": "2021-06-12T13:48:14.596794Z",
          "iopub.status.idle": "2021-06-12T13:48:14.782587Z",
          "shell.execute_reply": "2021-06-12T13:48:14.783011Z"
        },
        "id": "natural-penetration",
        "papermill": {
          "duration": 0.380907,
          "end_time": "2021-06-12T13:48:14.783155",
          "exception": false,
          "start_time": "2021-06-12T13:48:14.402248",
          "status": "completed"
        },
        "tags": []
      },
      "outputs": [],
      "source": [
        "# [0.5 point] for this code block\n",
        "# Plot confusion matrix\n",
        "# TODO: YOUR CODES HERE "
      ]
    },
    {
      "cell_type": "markdown",
      "id": "delayed-avenue",
      "metadata": {
        "id": "delayed-avenue",
        "papermill": {
          "duration": 0.202508,
          "end_time": "2021-06-12T13:48:09.910706",
          "exception": false,
          "start_time": "2021-06-12T13:48:09.708198",
          "status": "completed"
        },
        "tags": []
      },
      "source": [
        "# 7. Predictions of individual images in test set"
      ]
    },
    {
      "cell_type": "markdown",
      "id": "featured-context",
      "metadata": {
        "id": "featured-context",
        "papermill": {
          "duration": 0.179367,
          "end_time": "2021-06-12T13:48:10.276770",
          "exception": false,
          "start_time": "2021-06-12T13:48:10.097403",
          "status": "completed"
        },
        "tags": []
      },
      "source": [
        "**The function below will normalize the image back to its original. It simply multiplies the tensor by the standard deviation and adds the mean**"
      ]
    },
    {
      "cell_type": "code",
      "execution_count": null,
      "id": "oriented-highlight",
      "metadata": {
        "execution": {
          "iopub.execute_input": "2021-06-12T13:48:10.632313Z",
          "iopub.status.busy": "2021-06-12T13:48:10.631580Z",
          "iopub.status.idle": "2021-06-12T13:48:10.635287Z",
          "shell.execute_reply": "2021-06-12T13:48:10.634861Z"
        },
        "id": "oriented-highlight",
        "papermill": {
          "duration": 0.183197,
          "end_time": "2021-06-12T13:48:10.635398",
          "exception": false,
          "start_time": "2021-06-12T13:48:10.452201",
          "status": "completed"
        },
        "tags": []
      },
      "outputs": [],
      "source": [
        "def norm_out(img):\n",
        "    \n",
        "    img = img.permute(1,2,0)\n",
        "    mean = torch.FloatTensor([0.4124234616756439, 0.3674212694168091, 0.2578217089176178])\n",
        "    std = torch.FloatTensor([0.3268945515155792, 0.29282665252685547, 0.29053378105163574])\n",
        "    \n",
        "    img = img*std + mean\n",
        "        \n",
        "    return np.clip(img,0,1)"
      ]
    },
    {
      "cell_type": "code",
      "execution_count": null,
      "id": "illegal-mississippi",
      "metadata": {
        "execution": {
          "iopub.execute_input": "2021-06-12T13:48:11.408155Z",
          "iopub.status.busy": "2021-06-12T13:48:11.395666Z",
          "iopub.status.idle": "2021-06-12T13:48:13.050889Z",
          "shell.execute_reply": "2021-06-12T13:48:13.050447Z"
        },
        "id": "illegal-mississippi",
        "papermill": {
          "duration": 1.896917,
          "end_time": "2021-06-12T13:48:13.051035",
          "exception": false,
          "start_time": "2021-06-12T13:48:11.154118",
          "status": "completed"
        },
        "tags": []
      },
      "outputs": [],
      "source": [
        "# [1.5 point] for this code block\n",
        "fig, ax = plt.subplots(figsize=(8,12), ncols=2, nrows=4)\n",
        "num_of_img = 4\n",
        "for row in range(num_of_img):\n",
        "    # randomly pick an example from test set\n",
        "    # TODO: YOUR CODES HERE \n",
        "    img,label = \n",
        "    \n",
        "    # get the prediction\n",
        "    # TODO: YOUR CODES HERE \n",
        "    pred = \n",
        "    \n",
        "    # plot the image and check the prediction"
      ]
    },
    {
      "cell_type": "markdown",
      "id": "transparent-stock",
      "metadata": {
        "id": "transparent-stock",
        "papermill": {
          "duration": 0.193377,
          "end_time": "2021-06-12T13:48:15.163490",
          "exception": false,
          "start_time": "2021-06-12T13:48:14.970113",
          "status": "completed"
        },
        "tags": []
      },
      "source": [
        "\n",
        "\n",
        "***I hope you enjoyed it and found something new for yourself!* <br/>\n",
        "*For improvement, what do you think can be changed and what can be removed?*** <br/>\n",
        "how about batch size? model? unfreeze parameters? augmentation? <br/>\n",
        "[1 bonus point] for the answer"
      ]
    },
    {
      "cell_type": "code",
      "source": [],
      "metadata": {
        "id": "d_9EQziQJxzc"
      },
      "id": "d_9EQziQJxzc",
      "execution_count": null,
      "outputs": []
    }
  ],
  "metadata": {
    "colab": {
      "provenance": []
    },
    "kernelspec": {
      "display_name": "Python 3",
      "language": "python",
      "name": "python3"
    },
    "language_info": {
      "codemirror_mode": {
        "name": "ipython",
        "version": 3
      },
      "file_extension": ".py",
      "mimetype": "text/x-python",
      "name": "python",
      "nbconvert_exporter": "python",
      "pygments_lexer": "ipython3",
      "version": "3.8.8"
    },
    "papermill": {
      "default_parameters": {},
      "duration": 13450.846108,
      "end_time": "2021-06-12T13:48:18.636574",
      "environment_variables": {},
      "exception": null,
      "input_path": "__notebook__.ipynb",
      "output_path": "__notebook__.ipynb",
      "parameters": {},
      "start_time": "2021-06-12T10:04:07.790466",
      "version": "2.3.3"
    }
  },
  "nbformat": 4,
  "nbformat_minor": 5
}