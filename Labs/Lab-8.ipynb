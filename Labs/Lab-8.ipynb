{
 "cells": [
  {
   "cell_type": "markdown",
   "id": "8713509a",
   "metadata": {},
   "source": [
    "# Lab-8: Deep Learning with Lightning\n",
    "\n",
    "This lab is design for investigating the basic architecture and parameter searching techniques in deep learning literature. We use a fundamental dataset, MNIST, with the help of PyTorch Lightning and design our model to handle image classification task.\n",
    "\n",
    "### General Announcements\n",
    "\n",
    "* The exercises on this sheet are graded by a maximum of **14 points**. You will be asked to implement several functions.\n",
    "* Team work is not allowed! Everybody implements his/her own code. Discussing issues with others is fine, sharing code with others is not. \n",
    "* If you use any code fragments found on the Internet, make sure you reference them properly.\n",
    "* You can send your questions via email to the TAs until the deadline.\n",
    "\n",
    "### Suggestions\n",
    "\n",
    "Please install pytorch lightning packages via conda or pip before starting the lab session. You can use the tutorials of [Pytorch Lightning](https://lightning.ai/docs/pytorch/stable/notebooks/lightning_examples/mnist-hello-world.html).\n",
    "\n",
    "Please also check: [Tensorboard](https://pytorch.org/tutorials/recipes/recipes/tensorboard_with_pytorch.html)\n",
    "\n",
    "For installing lightning: [Link](https://lightning.ai/pytorch-lightning)"
   ]
  },
  {
   "cell_type": "code",
   "execution_count": 1,
   "id": "7a1e2156",
   "metadata": {},
   "outputs": [],
   "source": [
    "# Basic Machine Learning Modules\n",
    "import pandas\n",
    "import numpy\n",
    "import sklearn\n",
    "\n",
    "# Deep Learning Modules\n",
    "import torch\n",
    "import lightning.pytorch as pl\n",
    "\n",
    "# Visualization Modules\n",
    "import matplotlib.pyplot as plt\n",
    "\n",
    "# Others\n",
    "from torchvision.datasets import MNIST\n",
    "from torchvision import transforms\n",
    "from torchmetrics import Accuracy\n",
    "from lightning.pytorch.loggers import CSVLogger, TensorBoardLogger\n",
    "from lightning.pytorch.callbacks.early_stopping import EarlyStopping\n",
    "from lightning.pytorch.callbacks import TQDMProgressBar\n",
    "import warnings\n",
    "warnings.filterwarnings(\"ignore\")\n",
    "\n",
    "\n",
    "DATASET_PATH = '~/Desktop/MNIST/'  # You can change them\n",
    "EXPERIMENTS_PATH = '~/Desktop/MNIST_EXP'  # You can change them"
   ]
  },
  {
   "cell_type": "markdown",
   "id": "435db621",
   "metadata": {},
   "source": [
    "# 1) Dataset (3 Points)"
   ]
  },
  {
   "cell_type": "markdown",
   "id": "9d2af472",
   "metadata": {},
   "source": [
    "- Design a DataModule for MNIST.\n",
    "- Use 80/20 % split for train/val sets."
   ]
  },
  {
   "cell_type": "code",
   "execution_count": null,
   "id": "ea48159d",
   "metadata": {},
   "outputs": [],
   "source": [
    "class MNISTDataModule(pl.LightningDataModule):\n",
    "    def __init__(self, data_folder: str = DATASET_PATH, batch_size: int = 64, num_cpu: int = 1):\n",
    "        super().__init__()\n",
    "        self.path = data_folder\n",
    "        self.batch_size = batch_size\n",
    "        self.num_cpu = num_cpu\n",
    "        self.transform = transforms.Compose([transforms.ToTensor(), transforms.Normalize((0.1307,), (0.3081,))])\n",
    "    \n",
    "    def prepare_data(self) -> None:\n",
    "        # Download MNIST Data in self.path\n",
    "    \n",
    "    def setup(self, stage: str = 'fit') -> None:\n",
    "        if stage in ['fit', 'tune']:\n",
    "            self.train_dataset = ...  # Insert your code \n",
    "        \n",
    "        if stage in ['fit', 'tune', 'validate']:\n",
    "            self.val_dataset = ...  # Insert your code \n",
    "        \n",
    "        elif stage in ['test', 'predict']:\n",
    "            self.test_dataset = ...  # Insert your code \n",
    "        \n",
    "        else:\n",
    "            raise NotImplementedError('Unknown Stage: {}'.format(stage))\n",
    "            \n",
    "    def train_dataloader(self) -> torch.utils.data.DataLoader:\n",
    "        return torch.utils.data.DataLoader(\n",
    "            batch_size=self.batch_size, num_workers=self.num_cpu,  # DO NOT CHANGE IN VAL/TEST LOADERS\n",
    "            dataset=self.train_dataset, shuffle=True,  # Could be changed in val/test loaders\n",
    "        )\n",
    "    def val_dataloader(self) -> torch.utils.data.DataLoader:\n",
    "        # Insert your code\n",
    "    \n",
    "    def test_dataloader(self) -> torch.utils.data.DataLoader:\n",
    "        # Insert your code\n",
    "    \n",
    "    def predict_dataloader(self) -> torch.utils.data.DataLoader:\n",
    "        return test_dataloader()\n",
    "\n",
    "data_module = MNISTDataModule()\n",
    "data_module.prepare_data()\n",
    "data_module.setup('fit')\n",
    "dl = data_module.train_dataloader()\n",
    "print(next(dl.__iter__()))"
   ]
  },
  {
   "cell_type": "code",
   "execution_count": null,
   "id": "fbc5c915",
   "metadata": {},
   "outputs": [],
   "source": [
    "# Do not change! Only for checking\n",
    "print('Shape of Images: [B x C x H x W] = ', next(dl.__iter__())[0].shape)\n",
    "print('Shape of Labels: [B] = ', next(dl.__iter__())[1].shape)"
   ]
  },
  {
   "cell_type": "markdown",
   "id": "7e47e49f-d888-4505-af63-2b3c516736a7",
   "metadata": {},
   "source": [
    "## 2) Neural Network Architecture (2 Points)"
   ]
  },
  {
   "cell_type": "markdown",
   "id": "cf965eaa",
   "metadata": {},
   "source": [
    "- Design an model with 3 Convolutional layers and 1 fully-connected layer, in this order:\n",
    "    - Convolution: Kernel size = 3x3, padding = 'same', number of filters = 4\n",
    "    - Convolution: Kernel size = 3x3, padding = 'same', number of filters = 8\n",
    "    - Convolution: Kernel size = 3x3, padding = 'same', number of filters = 4\n",
    "    - Linear: No Bias, num_class = 10 in MNIST Dataset\n",
    "- Use rectified linear unit (ReLU) for activation function. \n",
    "- Initialize all the weights with `xavier_uniform`."
   ]
  },
  {
   "cell_type": "code",
   "execution_count": null,
   "id": "6ccdcec2",
   "metadata": {},
   "outputs": [],
   "source": [
    "class RawModel(torch.nn.Module):\n",
    "    def __init__(self):\n",
    "        super().__init__()\n",
    "        # Insert your code\n",
    "        self.model = ...\n",
    "        self.model.apply(self.initialize_weights)\n",
    "    \n",
    "    @staticmethod\n",
    "    def initialize_weights(module: torch.nn.Module) -> None:\n",
    "        # Insert your code\n",
    "        \n",
    "    def forward(self, images: torch.Tensor) -> torch.Tensor:\n",
    "        \"\"\"\n",
    "        Input: torch.Tensor | dtype=torch.float | shape=[B, C, H, W]\n",
    "        Output: torch.Tensor | dtype=torch.float | shape=[B, num_class]\n",
    "        \"\"\"\n",
    "        # Insert your code\n",
    "\n",
    "model = RawModel()\n",
    "with torch.no_grad():\n",
    "    sample_image = torch.rand(size=(4, 1, 28, 28))\n",
    "    output = model(sample_image)\n",
    "    print(output.shape, output.dtype)\n"
   ]
  },
  {
   "cell_type": "markdown",
   "id": "b9d0aef6-0e15-42b8-9bad-23093536ab66",
   "metadata": {},
   "source": [
    "## 3) Experiments (4 Points)"
   ]
  },
  {
   "cell_type": "markdown",
   "id": "e9d4ef1e",
   "metadata": {},
   "source": [
    "- Define training/validation/test step and optimizer with cross-entropy loss and Adam optimizer.\n",
    "- Use accuracy scores for monitoring the experiment. (multiclass accuracy from Lightning Metrics)"
   ]
  },
  {
   "cell_type": "code",
   "execution_count": null,
   "id": "30467cae",
   "metadata": {},
   "outputs": [],
   "source": [
    "class MNISTExperiment(pl.LightningModule):\n",
    "    def __init__(self, learning_rate: float = 1e-3):\n",
    "        super().__init__()\n",
    "        self.model = RawModel()\n",
    "        self.learning_rate = learning_rate\n",
    "        \n",
    "        self.train_scores = ...  # Insert your code\n",
    "        self.validation_scores = ...  # Insert your code\n",
    "        self.test_scores = ...  # Insert your code\n",
    "\n",
    "    def forward(self, x: torch.Tensor) -> torch.Tensor:\n",
    "        return self.model(x)\n",
    "\n",
    "    def training_step(self, batch, batch_idx) -> torch.Tensor:\n",
    "        x, y = batch\n",
    "        y_hat = self(x)\n",
    "        \n",
    "        loss = ...  # Insert your code\n",
    "        # Insert your code: Score Calculation\n",
    "        \n",
    "        self.log('train_loss', loss)\n",
    "        self.log('train_accuracy', ...)\n",
    "        return loss\n",
    "    \n",
    "    def validation_step(self, batch, batch_idx) -> None:\n",
    "        # Insert your code\n",
    "        self.log('validation_accuracy', ...)\n",
    "    \n",
    "    def test_step(self, batch, batch_idx) -> None:\n",
    "        # Insert your code\n",
    "        self.log('test_accuracy', ...)\n",
    "\n",
    "    def configure_optimizers(self):\n",
    "        optimizer = ...  # Insert your code \n",
    "        return optimizer\n",
    "\n",
    "experiment = MNISTExperiment()"
   ]
  },
  {
   "cell_type": "markdown",
   "id": "67ca3037",
   "metadata": {},
   "source": [
    "- Define a trainer of lightning.\n",
    "    - Maximum epoch = 20\n",
    "    - accelerator = 'auto'\n",
    "    - Use `CSVLogger` and `TensorBoardLogger`\n",
    "    - Use `EarlyStopping` with patience epoch = 3\n",
    "    - Use `TQDMProgressBar` with refresh rate = 10"
   ]
  },
  {
   "cell_type": "code",
   "execution_count": null,
   "id": "cf6aab9f",
   "metadata": {},
   "outputs": [],
   "source": [
    "trainer = ...  # Insert your code"
   ]
  },
  {
   "cell_type": "markdown",
   "id": "3d8e166c",
   "metadata": {},
   "source": [
    "## 4) Results (4 Points)\n",
    "- Train and test the `RawModel` and plot the score and loss values versus epoch."
   ]
  },
  {
   "cell_type": "code",
   "execution_count": null,
   "id": "741ac293",
   "metadata": {},
   "outputs": [],
   "source": [
    "# Insert your code"
   ]
  },
  {
   "cell_type": "markdown",
   "id": "5bde4161",
   "metadata": {},
   "source": [
    "- Re-design the model with dropout layer in-between the convolutional layers and re-train the model. as like `RawModel` and create a new module as `ModelWithDropout`. Try:\n",
    "    - dropout probability = 0.1\n",
    "    - dropout probability = 0.5\n",
    "    - dropout probability = 0.9"
   ]
  },
  {
   "cell_type": "code",
   "execution_count": null,
   "id": "65ec01f4",
   "metadata": {},
   "outputs": [],
   "source": [
    "# Insert your code"
   ]
  },
  {
   "cell_type": "markdown",
   "id": "612e490a",
   "metadata": {},
   "source": [
    "- Re-design the model with batchnorm layer in-between the convolutional layers and re-train the model."
   ]
  },
  {
   "cell_type": "code",
   "execution_count": null,
   "id": "f322cf30",
   "metadata": {},
   "outputs": [],
   "source": [
    "# Insert your code"
   ]
  },
  {
   "cell_type": "markdown",
   "id": "80b6d31c",
   "metadata": {},
   "source": [
    "## 5) Conclusion (1 Point)\n",
    "Comment on your findings:\n",
    "- Show the results in a table via Pandas\n",
    "- Which method is better? Why?\n",
    "- Are the results significant? If not, how can we get significant ones?"
   ]
  },
  {
   "cell_type": "markdown",
   "id": "50ba1762",
   "metadata": {},
   "source": [
    "ANSWER: ..."
   ]
  },
  {
   "cell_type": "code",
   "execution_count": null,
   "id": "9a816032",
   "metadata": {},
   "outputs": [],
   "source": []
  }
 ],
 "metadata": {
  "kernelspec": {
   "display_name": "exps",
   "language": "python",
   "name": "exps"
  },
  "language_info": {
   "codemirror_mode": {
    "name": "ipython",
    "version": 3
   },
   "file_extension": ".py",
   "mimetype": "text/x-python",
   "name": "python",
   "nbconvert_exporter": "python",
   "pygments_lexer": "ipython3",
   "version": "3.10.10"
  }
 },
 "nbformat": 4,
 "nbformat_minor": 5
}
